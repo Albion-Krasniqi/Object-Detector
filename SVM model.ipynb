{
 "cells": [
  {
   "cell_type": "code",
   "execution_count": 1,
   "metadata": {},
   "outputs": [],
   "source": [
    "from PIL import Image\n",
    "import PIL.ImageOps\n",
    "from glob import glob\n",
    "import numpy as np\n",
    "from sklearn.decomposition import PCA\n",
    "from sklearn.linear_model import LogisticRegression\n",
    "from sklearn.preprocessing import StandardScaler\n",
    "from sklearn.model_selection import train_test_split\n",
    "import matplotlib.pyplot as plt\n",
    "from sklearn.discriminant_analysis import LinearDiscriminantAnalysis\n",
    "\n",
    "%matplotlib inline"
   ]
  },
  {
   "cell_type": "code",
   "execution_count": 2,
   "metadata": {},
   "outputs": [],
   "source": [
    "## we will processes all photos down to to 512 pixels\n",
    "## both in width and length  \n",
    "img_size = (128,128)\n",
    "\n",
    "## we will store in this list resized images\n",
    "resized_images = []\n",
    "\n",
    "## this function was adapted from \n",
    "## https://github.com/joelgrus/shirts/blob/master/visuals.py\n",
    "def image_to_np_array(file):\n",
    "    \"\"\"\n",
    "    This function takes a filename \n",
    "    1. opens it as a photo \n",
    "    2. modifies its original size\n",
    "    3. converts modified photo to a numpy array of RGB pixels\n",
    "    \"\"\"\n",
    "    ## open the file as an image\n",
    "    img = Image.open(file)\n",
    "    ## we will processes all photos down to 512 pixels  \n",
    "    resized_img = img.resize(img_size)\n",
    "    resized_images.append(resized_img)\n",
    "    ## getting the data of risized image\n",
    "    resized_img = list(resized_img.getdata())\n",
    "    map(list(), resized_img)\n",
    "    ## creating an numpy array\n",
    "    resized_img = np.array(resized_img)\n",
    "    ## looking at the images shapes\n",
    "    img_shape = resized_img.shape[0] * resized_img.shape[1]\n",
    "    flatten_img = resized_img.reshape(1, img_shape)\n",
    "    return flatten_img[0]"
   ]
  },
  {
   "cell_type": "code",
   "execution_count": 3,
   "metadata": {},
   "outputs": [],
   "source": [
    "train_files = glob('/Users/albio/Desktop/train/*')\n",
    "test_files = glob('/Users/albio/Desktop/test/*')"
   ]
  },
  {
   "cell_type": "code",
   "execution_count": 4,
   "metadata": {},
   "outputs": [],
   "source": [
    "## creating a list where we will store np arrays of RGB pixels of each image\n",
    "train_flatten_images = []\n",
    "\n",
    "## converting each photo into a numpy array of RGB pixels\n",
    "for file in train_files: \n",
    "    train_flatten_images.append(image_to_np_array(file))"
   ]
  },
  {
   "cell_type": "code",
   "execution_count": 5,
   "metadata": {},
   "outputs": [],
   "source": [
    "## creating a list where we will store np arrays of RGB pixels of each image\n",
    "test_flatten_images = []\n",
    "\n",
    "## converting each photo into a numpy array of RGB pixels\n",
    "for file in test_files: \n",
    "    test_flatten_images.append(image_to_np_array(file))"
   ]
  },
  {
   "cell_type": "code",
   "execution_count": 11,
   "metadata": {},
   "outputs": [],
   "source": [
    "x = np.concatenate((test_flatten_images, train_flatten_images))\n",
    "y = np.concatenate((np.zeros(len(test_flatten_images)), np.ones(len(train_flatten_images)))) "
   ]
  },
  {
   "cell_type": "code",
   "execution_count": 12,
   "metadata": {},
   "outputs": [],
   "source": [
    "# Train/test split\n",
    "X_train, X_test, y_train, y_test = train_test_split(x, y, \n",
    "                                        test_size=0.2, random_state=0)"
   ]
  },
  {
   "cell_type": "code",
   "execution_count": 15,
   "metadata": {},
   "outputs": [
    {
     "name": "stderr",
     "output_type": "stream",
     "text": [
      "C:\\Users\\albio\\Anaconda3\\envs\\rstudio\\lib\\site-packages\\sklearn\\svm\\_base.py:977: ConvergenceWarning: Liblinear failed to converge, increase the number of iterations.\n",
      "  \"the number of iterations.\", ConvergenceWarning)\n"
     ]
    },
    {
     "data": {
      "text/plain": [
       "0.75"
      ]
     },
     "execution_count": 15,
     "metadata": {},
     "output_type": "execute_result"
    }
   ],
   "source": [
    "from sklearn.svm import LinearSVC\n",
    "from sklearn import metrics\n",
    "\n",
    "\n",
    "clf = LinearSVC()\n",
    "clf.fit(X_train,y_train)\n",
    "y_train_hat = clf.predict(X_train)\n",
    "y_test_hat = clf.predict(X_test)\n",
    "#print metrics.classification_report(y_train,y_train_hat)\n",
    "metrics.accuracy_score(y_test,y_test_hat)"
   ]
  }
 ],
 "metadata": {
  "kernelspec": {
   "display_name": "Python 3",
   "language": "python",
   "name": "python3"
  },
  "language_info": {
   "codemirror_mode": {
    "name": "ipython",
    "version": 3
   },
   "file_extension": ".py",
   "mimetype": "text/x-python",
   "name": "python",
   "nbconvert_exporter": "python",
   "pygments_lexer": "ipython3",
   "version": "3.7.1"
  }
 },
 "nbformat": 4,
 "nbformat_minor": 2
}
